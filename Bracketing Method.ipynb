{
 "cells": [
  {
   "cell_type": "markdown",
   "metadata": {},
   "source": [
    "# Bracketing Method"
   ]
  },
  {
   "cell_type": "code",
   "execution_count": null,
   "metadata": {
    "ExecuteTime": {
     "end_time": "2020-12-14T17:11:13.182000+08:00",
     "start_time": "2020-12-14T09:10:49.509Z"
    }
   },
   "outputs": [],
   "source": [
    "using Plots"
   ]
  },
  {
   "cell_type": "markdown",
   "metadata": {},
   "source": [
    "## bracket minimum method"
   ]
  },
  {
   "cell_type": "code",
   "execution_count": null,
   "metadata": {
    "ExecuteTime": {
     "end_time": "2020-12-14T17:12:14.805000+08:00",
     "start_time": "2020-12-14T09:12:14.798Z"
    }
   },
   "outputs": [],
   "source": [
    "function bracket_minimum(f; x=0, step=1e-2, k=1.2, iterMax=30)\n",
    "    procedure = []\n",
    "    \n",
    "    a, fa = x, f(x)\n",
    "    b, fb = x+step, f(x+step)\n",
    "    # choose left bound\n",
    "    if fa < fb\n",
    "        a, b = b, a\n",
    "        fa, fb = fb, fa\n",
    "        step = -step\n",
    "    end\n",
    "    \n",
    "    # choose right bound\n",
    "    iterCount = 0\n",
    "    while true\n",
    "        iterCount += 1\n",
    "        tempList = []\n",
    "        c, fc = b+step, f(b+step)\n",
    "        \n",
    "        ###\n",
    "        push!(tempList, [[\"a\", a, fa], [\"b\", b, fb], [\"c\", c, fc]])\n",
    "        ###\n",
    "        \n",
    "        # if c is on the right\n",
    "        if (fc > fb) || (iterCount > iterMax)\n",
    "            return push!(procedure, tempList)\n",
    "        end\n",
    "        a, fa, b, fb = b, fb, c, fc\n",
    "        step *= k # test\n",
    "        ###\n",
    "        push!(tempList, [[\"a\", a, fa], [\"b\", b, fb]])\n",
    "        push!(procedure, tempList)\n",
    "        ###\n",
    "    end\n",
    "end"
   ]
  },
  {
   "cell_type": "code",
   "execution_count": null,
   "metadata": {
    "ExecuteTime": {
     "end_time": "2020-12-14T17:12:17.196000+08:00",
     "start_time": "2020-12-14T09:12:17.174Z"
    }
   },
   "outputs": [],
   "source": [
    "f(x) = x.^2\n",
    "x_axis = collect(range(-1, 1, length=101))\n",
    "y_axis = f(x_axis)\n",
    "nothing"
   ]
  },
  {
   "cell_type": "code",
   "execution_count": null,
   "metadata": {
    "ExecuteTime": {
     "end_time": "2020-12-15T17:03:44.096000+08:00",
     "start_time": "2020-12-15T09:03:44.071Z"
    },
    "scrolled": true
   },
   "outputs": [],
   "source": [
    "results = bracket_minimum(f; x=1)\n",
    "nothing"
   ]
  },
  {
   "cell_type": "code",
   "execution_count": null,
   "metadata": {
    "ExecuteTime": {
     "end_time": "2020-12-14T17:12:38.412000+08:00",
     "start_time": "2020-12-14T09:12:23.636Z"
    }
   },
   "outputs": [],
   "source": [
    "ax, ay, bx, by, cx, cy = nothing, nothing,nothing,nothing,nothing,nothing\n",
    "anim = @animate for iter ∈ results\n",
    "    for step ∈ iter\n",
    "        if length(step) == 3\n",
    "            aa, bb, cc = step\n",
    "            ax, ay = aa[2], aa[3]\n",
    "            bx, by = bb[2], bb[3]\n",
    "            cx, cy = cc[2], cc[3]\n",
    "        elseif length(step) == 2\n",
    "            aa, bb = step\n",
    "            ax, ay = aa[2], aa[3]\n",
    "            bx, by = bb[2], bb[3]\n",
    "        end\n",
    "        \n",
    "        # starting plot\n",
    "        plt = plot(5, xlim=(-1,1), ylim=(-1,1), c=:red, aspect_ratio=1, legend=false, framestyle=:origin)\n",
    "        plot!(plt, x_axis, y_axis, c=:blue, legend=false)\n",
    "        scatter!([ax], [ay], c=:black, markerstrokecolor=:black)\n",
    "        annotate!([ax], [ay], \"A\", :bottom)\n",
    "        scatter!([bx], [by], c=:green, markerstrokecolor=:green)\n",
    "        annotate!([bx], [by], \"B\", :left)\n",
    "        scatter!([cx], [cy], c=:red, markerstrokecolor=:red)\n",
    "        annotate!([cx], [cy], \"C\", :top)\n",
    "    end\n",
    "end\n",
    "gif(anim, fps=5)"
   ]
  },
  {
   "cell_type": "markdown",
   "metadata": {},
   "source": [
    "### Reference\n",
    "* https://www.math.purdue.edu/~allen450/Plotting-Tutorial.html\n",
    "* https://docs.juliaplots.org/latest/animations/"
   ]
  },
  {
   "cell_type": "markdown",
   "metadata": {},
   "source": [
    "## Golden Section Search"
   ]
  },
  {
   "cell_type": "code",
   "execution_count": null,
   "metadata": {
    "ExecuteTime": {
     "end_time": "2020-12-17T11:09:59.603000+08:00",
     "start_time": "2020-12-17T03:09:59.597Z"
    }
   },
   "outputs": [],
   "source": [
    "ϕ = (1+√5)/2\n",
    "ρ = 1-1/ϕ # (3-√5)/2"
   ]
  },
  {
   "cell_type": "code",
   "execution_count": null,
   "metadata": {
    "ExecuteTime": {
     "end_time": "2020-12-17T16:51:27.622000+08:00",
     "start_time": "2020-12-17T08:51:27.615Z"
    }
   },
   "outputs": [],
   "source": [
    "function golden_section_search(f, a, b, tolerance)\n",
    "    d = b - a\n",
    "    ā = a + ρ*d\n",
    "    b̄ = a + (1-ρ)*d\n",
    "    fā = f(ā)\n",
    "    fb̄ = f(b̄)\n",
    "    n = ceil(log(tolerance/d) / log(1/ϕ))\n",
    "    \n",
    "    for i ∈ range(1, n, step=1)\n",
    "        if fā > fb̄\n",
    "            # [ā, b]\n",
    "            a = ā\n",
    "            ā, fā = b̄, fb̄\n",
    "            d = b - a\n",
    "            b̄ = a + (1-ρ)*d\n",
    "            fb̄ = f(b̄)\n",
    "        else\n",
    "            #[a, b̄]\n",
    "            b = b̄\n",
    "            b̄, fb̄ = ā, fā\n",
    "            d = b - a\n",
    "            ā = a + ρ*d\n",
    "            fā = f(ā)\n",
    "        end\n",
    "        println(\"[a, b] = [$(round(a, digits=4)), $(round(b, digits=4))]\")\n",
    "    end\n",
    "end"
   ]
  },
  {
   "cell_type": "code",
   "execution_count": null,
   "metadata": {
    "ExecuteTime": {
     "end_time": "2020-12-17T16:51:29.880000+08:00",
     "start_time": "2020-12-17T08:51:29.808Z"
    }
   },
   "outputs": [],
   "source": [
    "f(x) = x^4-14x^3+60x^2-70x\n",
    "golden_section_search(f, 0, 2, 0.3)"
   ]
  }
 ],
 "metadata": {
  "kernelspec": {
   "display_name": "Julia 1.5.2",
   "language": "julia",
   "name": "julia-1.5"
  },
  "language_info": {
   "file_extension": ".jl",
   "mimetype": "application/julia",
   "name": "julia",
   "version": "1.5.2"
  }
 },
 "nbformat": 4,
 "nbformat_minor": 2
}
