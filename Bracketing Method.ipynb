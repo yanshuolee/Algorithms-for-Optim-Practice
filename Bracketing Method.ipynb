{
 "cells": [
  {
   "cell_type": "markdown",
   "metadata": {},
   "source": [
    "# Bracketing Method\n",
    "## bracket minimum method"
   ]
  },
  {
   "cell_type": "code",
   "execution_count": 1,
   "metadata": {
    "ExecuteTime": {
     "end_time": "2020-12-11T17:24:04.923000+08:00",
     "start_time": "2020-12-11T09:23:52.224Z"
    }
   },
   "outputs": [],
   "source": [
    "using Plots"
   ]
  },
  {
   "cell_type": "code",
   "execution_count": 7,
   "metadata": {
    "ExecuteTime": {
     "end_time": "2020-12-11T17:27:55.649000+08:00",
     "start_time": "2020-12-11T09:27:55.643Z"
    }
   },
   "outputs": [
    {
     "data": {
      "text/plain": [
       "bracket_minimum (generic function with 1 method)"
      ]
     },
     "execution_count": 7,
     "metadata": {},
     "output_type": "execute_result"
    }
   ],
   "source": [
    "function bracket_minimum(f; x=0, step=1e-2, k=1.2, iterMax=30)\n",
    "    procedure = []\n",
    "    \n",
    "    a, fa = x, f(x)\n",
    "    b, fb = x+step, f(x+step)\n",
    "    # choose left bound\n",
    "    if fa < fb\n",
    "        a, b = b, a\n",
    "        fa, fb = fb, fa\n",
    "        step = -step\n",
    "    end\n",
    "    \n",
    "    # choose right bound\n",
    "    iterCount = 0\n",
    "    while true\n",
    "        iterCount += 1\n",
    "        tempList = []\n",
    "        c, fc = b+step, f(b+step)\n",
    "        \n",
    "        ###\n",
    "        push!(tempList, [[\"a\", a, fa], [\"b\", b, fb], [\"c\", c, fc]])\n",
    "        ###\n",
    "        \n",
    "        # if c is on the right\n",
    "        if (fc > fb) || (iterCount <= iterMax)\n",
    "            return push!(procedure, tempList)\n",
    "        end\n",
    "        a, fa, b, fb = b, fb, c, fc\n",
    "        step *= k # test\n",
    "        ###\n",
    "        push!(tempList, [[\"a\", a, fa], [\"b\", b, fb]])\n",
    "        push!(procedure, tempList)\n",
    "        ###\n",
    "    end\n",
    "end"
   ]
  },
  {
   "cell_type": "code",
   "execution_count": 13,
   "metadata": {
    "ExecuteTime": {
     "end_time": "2020-12-11T17:33:41.388000+08:00",
     "start_time": "2020-12-11T09:33:41.366Z"
    }
   },
   "outputs": [],
   "source": [
    "# f(x) = x.^2\n",
    "f(x) = -x.^2\n",
    "x_axis = collect(range(-1, 1, length=101))\n",
    "y_axis = f(x_axis)\n",
    "nothing"
   ]
  },
  {
   "cell_type": "code",
   "execution_count": 14,
   "metadata": {
    "ExecuteTime": {
     "end_time": "2020-12-11T17:33:42.320000+08:00",
     "start_time": "2020-12-11T09:33:42.269Z"
    },
    "scrolled": true
   },
   "outputs": [],
   "source": [
    "results = bracket_minimum(f; x=1)\n",
    "nothing"
   ]
  },
  {
   "cell_type": "code",
   "execution_count": 16,
   "metadata": {
    "ExecuteTime": {
     "end_time": "2020-12-11T17:33:46.984000+08:00",
     "start_time": "2020-12-11T09:33:46.750Z"
    }
   },
   "outputs": [
    {
     "name": "stderr",
     "output_type": "stream",
     "text": [
      "┌ Info: Saved animation to \n",
      "│   fn = C:\\Users\\everc\\Documents\\git\\Algorithms-for-Optim-Practice\\tmp.gif\n",
      "└ @ Plots C:\\Users\\everc\\.julia\\packages\\Plots\\vsE7b\\src\\animation.jl:104\n"
     ]
    },
    {
     "data": {
      "text/html": [
       "<img src=\"data:image/gif;base64,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\" />"
      ],
      "text/plain": [
       "Plots.AnimatedGif(\"C:\\\\Users\\\\everc\\\\Documents\\\\git\\\\Algorithms-for-Optim-Practice\\\\tmp.gif\")"
      ]
     },
     "execution_count": 16,
     "metadata": {},
     "output_type": "execute_result"
    }
   ],
   "source": [
    "ax, ay, bx, by, cx, cy = nothing, nothing,nothing,nothing,nothing,nothing\n",
    "anim = @animate for iter ∈ results\n",
    "    for step ∈ iter\n",
    "        if length(step) == 3\n",
    "            aa, bb, cc = step\n",
    "            ax, ay = aa[2], aa[3]\n",
    "            bx, by = bb[2], bb[3]\n",
    "            cx, cy = cc[2], cc[3]\n",
    "        elseif length(step) == 2\n",
    "            aa, bb = step\n",
    "            ax, ay = aa[2], aa[3]\n",
    "            bx, by = bb[2], bb[3]\n",
    "        end\n",
    "        \n",
    "        # starting plot\n",
    "        plt = plot(5, xlim=(-1,1), ylim=(-1,1), c=:red, aspect_ratio=1, legend=false, framestyle=:origin)\n",
    "        plot!(plt, x_axis, y_axis, c=:blue, legend=false)\n",
    "        scatter!([ax], [ay], c=:black, markerstrokecolor=:black)\n",
    "        annotate!([ax], [ay], \"A\", :bottom)\n",
    "        scatter!([bx], [by], c=:green, markerstrokecolor=:green)\n",
    "        annotate!([bx], [by], \"B\", :left)\n",
    "        scatter!([cx], [cy], c=:red, markerstrokecolor=:red)\n",
    "        annotate!([cx], [cy], \"C\", :top)\n",
    "    end\n",
    "end\n",
    "gif(anim, fps=5)"
   ]
  },
  {
   "cell_type": "markdown",
   "metadata": {},
   "source": [
    "### Reference\n",
    "* https://www.math.purdue.edu/~allen450/Plotting-Tutorial.html\n",
    "* https://docs.juliaplots.org/latest/animations/"
   ]
  }
 ],
 "metadata": {
  "kernelspec": {
   "display_name": "Julia 1.5.2",
   "language": "julia",
   "name": "julia-1.5"
  },
  "language_info": {
   "file_extension": ".jl",
   "mimetype": "application/julia",
   "name": "julia",
   "version": "1.5.2"
  }
 },
 "nbformat": 4,
 "nbformat_minor": 2
}
