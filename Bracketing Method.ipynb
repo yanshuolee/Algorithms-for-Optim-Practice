{
 "cells": [
  {
   "cell_type": "markdown",
   "metadata": {},
   "source": [
    "# Bracketing Method\n",
    "## bracket minimum method"
   ]
  },
  {
   "cell_type": "code",
   "execution_count": null,
   "metadata": {},
   "outputs": [],
   "source": [
    "function bracket_minimum(f, x=0, step=1e-2, k=2.0)\n",
    "    a, fa = x, f(x)\n",
    "    b, fb = x+step, f(x+step)\n",
    "    # choose left bound\n",
    "    if fa < fb\n",
    "        a, b = b, a\n",
    "        fa, fb = fb, fa\n",
    "        step = -step\n",
    "    end\n",
    "    \n",
    "    # choose right bound\n",
    "    while true\n",
    "        c, fc = b+step, f(b+step)\n",
    "        # if c is on the right\n",
    "        if yc > yb\n",
    "            return (a, c)\n",
    "        a, fa, b, fb = b, fb, c, fc\n",
    "        # step *= k # test "
   ]
  }
 ],
 "metadata": {
  "kernelspec": {
   "display_name": "Julia 1.5.1",
   "language": "julia",
   "name": "julia-1.5"
  },
  "language_info": {
   "file_extension": ".jl",
   "mimetype": "application/julia",
   "name": "julia",
   "version": "1.5.1"
  }
 },
 "nbformat": 4,
 "nbformat_minor": 2
}
